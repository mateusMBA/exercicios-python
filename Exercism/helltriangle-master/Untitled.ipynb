{
 "cells": [
  {
   "cell_type": "code",
   "execution_count": 22,
   "metadata": {},
   "outputs": [
    {
     "name": "stdout",
     "output_type": "stream",
     "text": [
      "26\n"
     ]
    }
   ],
   "source": [
    "from hellstriangle import maximum_top_to_bottom\n",
    "from hellstriangle import generate_random_triangle\n",
    "\n",
    "def max_hell_triangle(triangle):\n",
    "    pos = 0\n",
    "    soma = 0\n",
    "    \n",
    "    for elemento in triangle:\n",
    "        soma += 1\n",
    "        if pos == 0:\n",
    "            soma += elemento[pos]\n",
    "        else:\n",
    "            if elemento[pos] == elemento[pos + 1]:\n",
    "                soma += elemento[pos]\n",
    "            else:\n",
    "                if elemento[pos] > elemento[pos+1]:\n",
    "                    soma += elemento[pos]\n",
    "                else:\n",
    "                    soma += elemento[pos]\n",
    "                    pos = pos + 1\n",
    "    \n",
    "    return soma\n",
    "                \n",
    "            \n",
    "                    \n",
    "                    \n",
    "triangulo = [[6],[3,5],[9,7,1],[4,6,8,4]]\n",
    "print(max_hell_triangle(triangulo))\n"
   ]
  },
  {
   "cell_type": "code",
   "execution_count": 18,
   "metadata": {},
   "outputs": [
    {
     "name": "stdout",
     "output_type": "stream",
     "text": [
      "4\n"
     ]
    }
   ],
   "source": [
    "matriz = [[1,2],[2,3,4]]\n",
    "print(matriz[1][2])"
   ]
  },
  {
   "cell_type": "code",
   "execution_count": null,
   "metadata": {},
   "outputs": [],
   "source": []
  }
 ],
 "metadata": {
  "kernelspec": {
   "display_name": "Python 3",
   "language": "python",
   "name": "python3"
  },
  "language_info": {
   "codemirror_mode": {
    "name": "ipython",
    "version": 3
   },
   "file_extension": ".py",
   "mimetype": "text/x-python",
   "name": "python",
   "nbconvert_exporter": "python",
   "pygments_lexer": "ipython3",
   "version": "3.8.3"
  }
 },
 "nbformat": 4,
 "nbformat_minor": 4
}
